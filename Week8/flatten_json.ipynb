{
 "cells": [
  {
   "cell_type": "code",
   "execution_count": 0,
   "metadata": {
    "application/vnd.databricks.v1+cell": {
     "cellMetadata": {
      "byteLimit": 2048000,
      "rowLimit": 10000
     },
     "inputWidgets": {},
     "nuid": "71c588ee-2a9a-400c-a90f-d2bba5ab372e",
     "showTitle": false,
     "tableResultSettingsMap": {},
     "title": ""
    }
   },
   "outputs": [
    {
     "output_type": "execute_result",
     "data": {
      "text/plain": [
       "[FileInfo(path='dbfs:/mnt/dataset/example_2.json', name='example_2.json', size=947, modificationTime=1753689852000),\n",
       " FileInfo(path='dbfs:/mnt/dataset/example_2_flattened.parquet/', name='example_2_flattened.parquet/', size=0, modificationTime=1753697811000),\n",
       " FileInfo(path='dbfs:/mnt/dataset/example_3.json', name='example_3.json', size=1090, modificationTime=1753691329000),\n",
       " FileInfo(path='dbfs:/mnt/dataset/example_3_flattened.parquet/', name='example_3_flattened.parquet/', size=0, modificationTime=1753697812000),\n",
       " FileInfo(path='dbfs:/mnt/dataset/yellow_tripdata_2018-01.parquet', name='yellow_tripdata_2018-01.parquet', size=123668517, modificationTime=1753644089000)]"
      ]
     },
     "execution_count": 57,
     "metadata": {},
     "output_type": "execute_result"
    }
   ],
   "source": [
    "dbutils.fs.ls(\"/mnt/dataset\")"
   ]
  },
  {
   "cell_type": "markdown",
   "metadata": {
    "application/vnd.databricks.v1+cell": {
     "cellMetadata": {
      "byteLimit": 2048000,
      "rowLimit": 10000
     },
     "inputWidgets": {},
     "nuid": "8298f212-dbd7-4304-afc4-7098da2c086c",
     "showTitle": false,
     "tableResultSettingsMap": {},
     "title": ""
    }
   },
   "source": [
    "## Function to flatten the JSON file"
   ]
  },
  {
   "cell_type": "code",
   "execution_count": 0,
   "metadata": {
    "application/vnd.databricks.v1+cell": {
     "cellMetadata": {
      "byteLimit": 2048000,
      "rowLimit": 10000
     },
     "inputWidgets": {},
     "nuid": "da196866-9e75-4127-a4b5-4f16507bc513",
     "showTitle": false,
     "tableResultSettingsMap": {},
     "title": ""
    }
   },
   "outputs": [],
   "source": [
    "from pyspark.sql.functions import col\n",
    "\n",
    "from pyspark.sql.functions import col, explode_outer\n",
    "\n",
    "def flatten_df(df):\n",
    "    # Loop until all the nested data types are not flattened\n",
    "    while True:\n",
    "        flat_cols = []\n",
    "        explode_cols = []\n",
    "        struct_cols = []\n",
    "\n",
    "        # Loop through all the columns and their data types\n",
    "        for field in df.schema.fields:\n",
    "            field_name = field.name\n",
    "            data_type = field.dataType\n",
    "            \n",
    "            # Check is the data type has attribute \"typeName\" associated with it(to verify the data types)\n",
    "            if hasattr(data_type, \"typeName\"):\n",
    "                dtype = data_type.typeName()\n",
    "            # If data type is not associated, we considered it as simple String\n",
    "            else:\n",
    "                dtype = data_type.simpleString()\n",
    "            \n",
    "            # Appending the columns to the list based on the data type\n",
    "            if dtype == \"struct\":\n",
    "                struct_cols.append(field_name)\n",
    "            elif dtype == \"array\":\n",
    "                if hasattr(data_type.elementType, \"typeName\") and data_type.elementType.typeName() == \"struct\":\n",
    "                    explode_cols.append(field_name)\n",
    "                else:\n",
    "                    flat_cols.append(field_name)\n",
    "            else:\n",
    "                flat_cols.append(field_name)\n",
    "\n",
    "        # If the struct and explode arrays are empty, we break as nested elements are no longer present\n",
    "        if not struct_cols and not explode_cols:\n",
    "            break\n",
    "\n",
    "        # For each struct column, we flatten the columns and drop the original column\n",
    "        for struct_col in struct_cols:\n",
    "            child_fields = df.select(f\"{struct_col}.*\").columns\n",
    "            for child in child_fields:\n",
    "                df = df.withColumn(f\"{struct_col}_{child}\", col(f\"{struct_col}.{child}\"))\n",
    "            df = df.drop(struct_col)\n",
    "\n",
    "        # For each explode array column, we explode the array and drop the original column\n",
    "        for array_col in explode_cols:\n",
    "            df = df.withColumn(array_col, explode_outer(col(array_col)))\n",
    "\n",
    "    return df\n"
   ]
  },
  {
   "cell_type": "markdown",
   "metadata": {
    "application/vnd.databricks.v1+cell": {
     "cellMetadata": {
      "byteLimit": 2048000,
      "rowLimit": 10000
     },
     "inputWidgets": {},
     "nuid": "71b548ec-4517-4c68-ba26-bc924fc26696",
     "showTitle": false,
     "tableResultSettingsMap": {},
     "title": ""
    }
   },
   "source": [
    "## Example 1"
   ]
  },
  {
   "cell_type": "code",
   "execution_count": 0,
   "metadata": {
    "application/vnd.databricks.v1+cell": {
     "cellMetadata": {
      "byteLimit": 2048000,
      "rowLimit": 10000
     },
     "inputWidgets": {},
     "nuid": "6eb687ac-470d-47af-86ed-2bd95491f5ba",
     "showTitle": false,
     "tableResultSettingsMap": {},
     "title": ""
    }
   },
   "outputs": [],
   "source": [
    "df = spark.read.format(\"json\")\\\n",
    "    .option(\"inferSchema\", True)\\\n",
    "    .option(\"multiLine\", True)\\\n",
    "    .load(\"/mnt/dataset/example_2.json\")"
   ]
  },
  {
   "cell_type": "code",
   "execution_count": 0,
   "metadata": {
    "application/vnd.databricks.v1+cell": {
     "cellMetadata": {
      "byteLimit": 2048000,
      "rowLimit": 10000
     },
     "inputWidgets": {},
     "nuid": "3d599512-54c0-4c9d-821e-72f7f5e74888",
     "showTitle": false,
     "tableResultSettingsMap": {},
     "title": ""
    }
   },
   "outputs": [
    {
     "output_type": "stream",
     "name": "stdout",
     "output_type": "stream",
     "text": [
      "root\n |-- quiz: struct (nullable = true)\n |    |-- maths: struct (nullable = true)\n |    |    |-- q1: struct (nullable = true)\n |    |    |    |-- answer: string (nullable = true)\n |    |    |    |-- options: array (nullable = true)\n |    |    |    |    |-- element: string (containsNull = true)\n |    |    |    |-- question: string (nullable = true)\n |    |    |-- q2: struct (nullable = true)\n |    |    |    |-- answer: string (nullable = true)\n |    |    |    |-- options: array (nullable = true)\n |    |    |    |    |-- element: string (containsNull = true)\n |    |    |    |-- question: string (nullable = true)\n |    |-- sport: struct (nullable = true)\n |    |    |-- q1: struct (nullable = true)\n |    |    |    |-- answer: string (nullable = true)\n |    |    |    |-- options: array (nullable = true)\n |    |    |    |    |-- element: string (containsNull = true)\n |    |    |    |-- question: string (nullable = true)\n\n"
     ]
    }
   ],
   "source": [
    "df.printSchema()"
   ]
  },
  {
   "cell_type": "code",
   "execution_count": 0,
   "metadata": {
    "application/vnd.databricks.v1+cell": {
     "cellMetadata": {
      "byteLimit": 2048000,
      "rowLimit": 10000
     },
     "inputWidgets": {},
     "nuid": "ea3287b4-065b-41e9-8f4f-9af68773d10e",
     "showTitle": false,
     "tableResultSettingsMap": {
      "0": {
       "dataGridStateBlob": "{\"version\":1,\"tableState\":{\"columnPinning\":{\"left\":[\"#row_number#\"],\"right\":[]},\"columnSizing\":{},\"columnVisibility\":{}},\"settings\":{\"columns\":{}},\"syncTimestamp\":1753692528584}",
       "filterBlob": null,
       "queryPlanFiltersBlob": null,
       "tableResultIndex": 0
      }
     },
     "title": ""
    }
   },
   "outputs": [
    {
     "output_type": "stream",
     "name": "stdout",
     "output_type": "stream",
     "text": [
      "root\n |-- quiz_maths_q1_answer: string (nullable = true)\n |-- quiz_maths_q1_options: array (nullable = true)\n |    |-- element: string (containsNull = true)\n |-- quiz_maths_q1_question: string (nullable = true)\n |-- quiz_maths_q2_answer: string (nullable = true)\n |-- quiz_maths_q2_options: array (nullable = true)\n |    |-- element: string (containsNull = true)\n |-- quiz_maths_q2_question: string (nullable = true)\n |-- quiz_sport_q1_answer: string (nullable = true)\n |-- quiz_sport_q1_options: array (nullable = true)\n |    |-- element: string (containsNull = true)\n |-- quiz_sport_q1_question: string (nullable = true)\n\n"
     ]
    },
    {
     "output_type": "display_data",
     "data": {
      "text/html": [
       "<style scoped>\n",
       "  .table-result-container {\n",
       "    max-height: 300px;\n",
       "    overflow: auto;\n",
       "  }\n",
       "  table, th, td {\n",
       "    border: 1px solid black;\n",
       "    border-collapse: collapse;\n",
       "  }\n",
       "  th, td {\n",
       "    padding: 5px;\n",
       "  }\n",
       "  th {\n",
       "    text-align: left;\n",
       "  }\n",
       "</style><div class='table-result-container'><table class='table-result'><thead style='background-color: white'><tr><th>quiz_maths_q1_answer</th><th>quiz_maths_q1_options</th><th>quiz_maths_q1_question</th><th>quiz_maths_q2_answer</th><th>quiz_maths_q2_options</th><th>quiz_maths_q2_question</th><th>quiz_sport_q1_answer</th><th>quiz_sport_q1_options</th><th>quiz_sport_q1_question</th></tr></thead><tbody><tr><td>12</td><td>List(10, 11, 12, 13)</td><td>5 + 7 = ?</td><td>4</td><td>List(1, 2, 3, 4)</td><td>12 - 8 = ?</td><td>Huston Rocket</td><td>List(New York Bulls, Los Angeles Kings, Golden State Warriros, Huston Rocket)</td><td>Which one is correct team name in NBA?</td></tr></tbody></table></div>"
      ]
     },
     "metadata": {
      "application/vnd.databricks.v1+output": {
       "addedWidgets": {},
       "aggData": [],
       "aggError": "",
       "aggOverflow": false,
       "aggSchema": [],
       "aggSeriesLimitReached": false,
       "aggType": "",
       "arguments": {},
       "columnCustomDisplayInfos": {},
       "data": [
        [
         "12",
         [
          "10",
          "11",
          "12",
          "13"
         ],
         "5 + 7 = ?",
         "4",
         [
          "1",
          "2",
          "3",
          "4"
         ],
         "12 - 8 = ?",
         "Huston Rocket",
         [
          "New York Bulls",
          "Los Angeles Kings",
          "Golden State Warriros",
          "Huston Rocket"
         ],
         "Which one is correct team name in NBA?"
        ]
       ],
       "datasetInfos": [],
       "dbfsResultPath": null,
       "isJsonSchema": true,
       "metadata": {},
       "overflow": false,
       "plotOptions": {
        "customPlotOptions": {},
        "displayType": "table",
        "pivotAggregation": null,
        "pivotColumns": null,
        "xColumns": null,
        "yColumns": null
       },
       "removedWidgets": [],
       "schema": [
        {
         "metadata": "{}",
         "name": "quiz_maths_q1_answer",
         "type": "\"string\""
        },
        {
         "metadata": "{}",
         "name": "quiz_maths_q1_options",
         "type": "{\"type\":\"array\",\"elementType\":\"string\",\"containsNull\":true}"
        },
        {
         "metadata": "{}",
         "name": "quiz_maths_q1_question",
         "type": "\"string\""
        },
        {
         "metadata": "{}",
         "name": "quiz_maths_q2_answer",
         "type": "\"string\""
        },
        {
         "metadata": "{}",
         "name": "quiz_maths_q2_options",
         "type": "{\"type\":\"array\",\"elementType\":\"string\",\"containsNull\":true}"
        },
        {
         "metadata": "{}",
         "name": "quiz_maths_q2_question",
         "type": "\"string\""
        },
        {
         "metadata": "{}",
         "name": "quiz_sport_q1_answer",
         "type": "\"string\""
        },
        {
         "metadata": "{}",
         "name": "quiz_sport_q1_options",
         "type": "{\"type\":\"array\",\"elementType\":\"string\",\"containsNull\":true}"
        },
        {
         "metadata": "{}",
         "name": "quiz_sport_q1_question",
         "type": "\"string\""
        }
       ],
       "type": "table"
      }
     },
     "output_type": "display_data"
    }
   ],
   "source": [
    "flat_json = flatten_df(df)\n",
    "flat_json.printSchema()\n",
    "flat_json.display()"
   ]
  },
  {
   "cell_type": "code",
   "execution_count": 0,
   "metadata": {
    "application/vnd.databricks.v1+cell": {
     "cellMetadata": {
      "byteLimit": 2048000,
      "rowLimit": 10000
     },
     "inputWidgets": {},
     "nuid": "63a095dd-2d56-4414-90d5-113d0ae1adab",
     "showTitle": false,
     "tableResultSettingsMap": {},
     "title": ""
    }
   },
   "outputs": [],
   "source": [
    "flat_json.write.mode(\"overwrite\")\\\n",
    "    .format(\"parquet\")\\\n",
    "    .save(\"/mnt/dataset/example_2_flattened.parquet\")"
   ]
  },
  {
   "cell_type": "markdown",
   "metadata": {
    "application/vnd.databricks.v1+cell": {
     "cellMetadata": {
      "byteLimit": 2048000,
      "rowLimit": 10000
     },
     "inputWidgets": {},
     "nuid": "8dc3e558-be66-4ba2-bcee-ffa91448f31a",
     "showTitle": false,
     "tableResultSettingsMap": {},
     "title": ""
    }
   },
   "source": [
    "## Example 2"
   ]
  },
  {
   "cell_type": "code",
   "execution_count": 0,
   "metadata": {
    "application/vnd.databricks.v1+cell": {
     "cellMetadata": {
      "byteLimit": 2048000,
      "rowLimit": 10000
     },
     "inputWidgets": {},
     "nuid": "58bce055-6d41-4a0e-8a24-b144d2b9b215",
     "showTitle": false,
     "tableResultSettingsMap": {},
     "title": ""
    }
   },
   "outputs": [],
   "source": [
    "df = spark.read.format(\"json\")\\\n",
    "    .option(\"inferSchema\", True)\\\n",
    "    .option(\"multiLine\", True)\\\n",
    "    .load(\"/mnt/dataset/example_3.json\")"
   ]
  },
  {
   "cell_type": "code",
   "execution_count": 0,
   "metadata": {
    "application/vnd.databricks.v1+cell": {
     "cellMetadata": {
      "byteLimit": 2048000,
      "rowLimit": 10000
     },
     "inputWidgets": {},
     "nuid": "12cd5407-58c2-43ec-adf7-23ebaed77fef",
     "showTitle": false,
     "tableResultSettingsMap": {},
     "title": ""
    }
   },
   "outputs": [
    {
     "output_type": "stream",
     "name": "stdout",
     "output_type": "stream",
     "text": [
      "root\n |-- id: string (nullable = true)\n |-- orderStatus: string (nullable = true)\n |-- paymentDetails: struct (nullable = true)\n |    |-- amount: double (nullable = true)\n |    |-- method: string (nullable = true)\n |    |-- transactionId: string (nullable = true)\n |-- products: array (nullable = true)\n |    |-- element: struct (containsNull = true)\n |    |    |-- name: string (nullable = true)\n |    |    |-- price: double (nullable = true)\n |    |    |-- productId: string (nullable = true)\n |    |    |-- quantity: long (nullable = true)\n |-- tags: array (nullable = true)\n |    |-- element: string (containsNull = true)\n |-- timestamp: string (nullable = true)\n |-- user: struct (nullable = true)\n |    |-- email: string (nullable = true)\n |    |-- name: string (nullable = true)\n |    |-- userId: string (nullable = true)\n\n"
     ]
    }
   ],
   "source": [
    "df.printSchema()"
   ]
  },
  {
   "cell_type": "code",
   "execution_count": 0,
   "metadata": {
    "application/vnd.databricks.v1+cell": {
     "cellMetadata": {
      "byteLimit": 2048000,
      "rowLimit": 10000
     },
     "inputWidgets": {},
     "nuid": "e730a4e1-61be-4a2f-b660-d5b8cdb9b1af",
     "showTitle": false,
     "tableResultSettingsMap": {},
     "title": ""
    }
   },
   "outputs": [
    {
     "output_type": "stream",
     "name": "stdout",
     "output_type": "stream",
     "text": [
      "root\n |-- id: string (nullable = true)\n |-- orderStatus: string (nullable = true)\n |-- tags: array (nullable = true)\n |    |-- element: string (containsNull = true)\n |-- timestamp: string (nullable = true)\n |-- paymentDetails_amount: double (nullable = true)\n |-- paymentDetails_method: string (nullable = true)\n |-- paymentDetails_transactionId: string (nullable = true)\n |-- user_email: string (nullable = true)\n |-- user_name: string (nullable = true)\n |-- user_userId: string (nullable = true)\n |-- products_name: string (nullable = true)\n |-- products_price: double (nullable = true)\n |-- products_productId: string (nullable = true)\n |-- products_quantity: long (nullable = true)\n\n"
     ]
    },
    {
     "output_type": "display_data",
     "data": {
      "text/html": [
       "<style scoped>\n",
       "  .table-result-container {\n",
       "    max-height: 300px;\n",
       "    overflow: auto;\n",
       "  }\n",
       "  table, th, td {\n",
       "    border: 1px solid black;\n",
       "    border-collapse: collapse;\n",
       "  }\n",
       "  th, td {\n",
       "    padding: 5px;\n",
       "  }\n",
       "  th {\n",
       "    text-align: left;\n",
       "  }\n",
       "</style><div class='table-result-container'><table class='table-result'><thead style='background-color: white'><tr><th>id</th><th>orderStatus</th><th>tags</th><th>timestamp</th><th>paymentDetails_amount</th><th>paymentDetails_method</th><th>paymentDetails_transactionId</th><th>user_email</th><th>user_name</th><th>user_userId</th><th>products_name</th><th>products_price</th><th>products_productId</th><th>products_quantity</th></tr></thead><tbody><tr><td>1</td><td>completed</td><td>List(electronics, online_sale)</td><td>2023-01-15T10:00:00Z</td><td>1250.0</td><td>credit_card</td><td>TXN12345</td><td>alice.s@example.com</td><td>Alice Smith</td><td>user_A</td><td>Laptop</td><td>1200.0</td><td>P101</td><td>1</td></tr><tr><td>1</td><td>completed</td><td>List(electronics, online_sale)</td><td>2023-01-15T10:00:00Z</td><td>1250.0</td><td>credit_card</td><td>TXN12345</td><td>alice.s@example.com</td><td>Alice Smith</td><td>user_A</td><td>Mouse</td><td>25.0</td><td>P102</td><td>2</td></tr><tr><td>2</td><td>pending</td><td>List(peripherals)</td><td>2023-01-15T11:30:00Z</td><td>375.0</td><td>paypal</td><td>TXN67890</td><td>bob.j@example.com</td><td>Bob Johnson</td><td>user_B</td><td>Keyboard</td><td>75.0</td><td>P201</td><td>1</td></tr><tr><td>2</td><td>pending</td><td>List(peripherals)</td><td>2023-01-15T11:30:00Z</td><td>375.0</td><td>paypal</td><td>TXN67890</td><td>bob.j@example.com</td><td>Bob Johnson</td><td>user_B</td><td>Monitor</td><td>300.0</td><td>P202</td><td>1</td></tr></tbody></table></div>"
      ]
     },
     "metadata": {
      "application/vnd.databricks.v1+output": {
       "addedWidgets": {},
       "aggData": [],
       "aggError": "",
       "aggOverflow": false,
       "aggSchema": [],
       "aggSeriesLimitReached": false,
       "aggType": "",
       "arguments": {},
       "columnCustomDisplayInfos": {},
       "data": [
        [
         "1",
         "completed",
         [
          "electronics",
          "online_sale"
         ],
         "2023-01-15T10:00:00Z",
         1250.0,
         "credit_card",
         "TXN12345",
         "alice.s@example.com",
         "Alice Smith",
         "user_A",
         "Laptop",
         1200.0,
         "P101",
         1
        ],
        [
         "1",
         "completed",
         [
          "electronics",
          "online_sale"
         ],
         "2023-01-15T10:00:00Z",
         1250.0,
         "credit_card",
         "TXN12345",
         "alice.s@example.com",
         "Alice Smith",
         "user_A",
         "Mouse",
         25.0,
         "P102",
         2
        ],
        [
         "2",
         "pending",
         [
          "peripherals"
         ],
         "2023-01-15T11:30:00Z",
         375.0,
         "paypal",
         "TXN67890",
         "bob.j@example.com",
         "Bob Johnson",
         "user_B",
         "Keyboard",
         75.0,
         "P201",
         1
        ],
        [
         "2",
         "pending",
         [
          "peripherals"
         ],
         "2023-01-15T11:30:00Z",
         375.0,
         "paypal",
         "TXN67890",
         "bob.j@example.com",
         "Bob Johnson",
         "user_B",
         "Monitor",
         300.0,
         "P202",
         1
        ]
       ],
       "datasetInfos": [],
       "dbfsResultPath": null,
       "isJsonSchema": true,
       "metadata": {},
       "overflow": false,
       "plotOptions": {
        "customPlotOptions": {},
        "displayType": "table",
        "pivotAggregation": null,
        "pivotColumns": null,
        "xColumns": null,
        "yColumns": null
       },
       "removedWidgets": [],
       "schema": [
        {
         "metadata": "{}",
         "name": "id",
         "type": "\"string\""
        },
        {
         "metadata": "{}",
         "name": "orderStatus",
         "type": "\"string\""
        },
        {
         "metadata": "{}",
         "name": "tags",
         "type": "{\"type\":\"array\",\"elementType\":\"string\",\"containsNull\":true}"
        },
        {
         "metadata": "{}",
         "name": "timestamp",
         "type": "\"string\""
        },
        {
         "metadata": "{}",
         "name": "paymentDetails_amount",
         "type": "\"double\""
        },
        {
         "metadata": "{}",
         "name": "paymentDetails_method",
         "type": "\"string\""
        },
        {
         "metadata": "{}",
         "name": "paymentDetails_transactionId",
         "type": "\"string\""
        },
        {
         "metadata": "{}",
         "name": "user_email",
         "type": "\"string\""
        },
        {
         "metadata": "{}",
         "name": "user_name",
         "type": "\"string\""
        },
        {
         "metadata": "{}",
         "name": "user_userId",
         "type": "\"string\""
        },
        {
         "metadata": "{}",
         "name": "products_name",
         "type": "\"string\""
        },
        {
         "metadata": "{}",
         "name": "products_price",
         "type": "\"double\""
        },
        {
         "metadata": "{}",
         "name": "products_productId",
         "type": "\"string\""
        },
        {
         "metadata": "{}",
         "name": "products_quantity",
         "type": "\"long\""
        }
       ],
       "type": "table"
      }
     },
     "output_type": "display_data"
    }
   ],
   "source": [
    "flat_json = flatten_df(df)\n",
    "flat_json.printSchema()\n",
    "flat_json.display()"
   ]
  },
  {
   "cell_type": "code",
   "execution_count": 0,
   "metadata": {
    "application/vnd.databricks.v1+cell": {
     "cellMetadata": {
      "byteLimit": 2048000,
      "rowLimit": 10000
     },
     "inputWidgets": {},
     "nuid": "385cce2c-94be-4656-b467-82bae8375200",
     "showTitle": false,
     "tableResultSettingsMap": {},
     "title": ""
    }
   },
   "outputs": [],
   "source": [
    "flat_json.write.mode(\"overwrite\")\\\n",
    "    .format(\"parquet\")\\\n",
    "    .save(\"/mnt/dataset/example_3_flattened.parquet\")"
   ]
  },
  {
   "cell_type": "markdown",
   "metadata": {
    "application/vnd.databricks.v1+cell": {
     "cellMetadata": {},
     "inputWidgets": {},
     "nuid": "5320ebaa-a3ce-4ca4-be10-2bc46d76bc63",
     "showTitle": false,
     "tableResultSettingsMap": {},
     "title": ""
    }
   },
   "source": [
    "## Loading Saved Parquet Files"
   ]
  },
  {
   "cell_type": "code",
   "execution_count": 0,
   "metadata": {
    "application/vnd.databricks.v1+cell": {
     "cellMetadata": {
      "byteLimit": 2048000,
      "rowLimit": 10000
     },
     "inputWidgets": {},
     "nuid": "09267cf6-9c16-408b-a95f-e205f56f228e",
     "showTitle": false,
     "tableResultSettingsMap": {},
     "title": ""
    }
   },
   "outputs": [
    {
     "output_type": "display_data",
     "data": {
      "text/html": [
       "<style scoped>\n",
       "  .table-result-container {\n",
       "    max-height: 300px;\n",
       "    overflow: auto;\n",
       "  }\n",
       "  table, th, td {\n",
       "    border: 1px solid black;\n",
       "    border-collapse: collapse;\n",
       "  }\n",
       "  th, td {\n",
       "    padding: 5px;\n",
       "  }\n",
       "  th {\n",
       "    text-align: left;\n",
       "  }\n",
       "</style><div class='table-result-container'><table class='table-result'><thead style='background-color: white'><tr><th>quiz_maths_q1_answer</th><th>quiz_maths_q1_options</th><th>quiz_maths_q1_question</th><th>quiz_maths_q2_answer</th><th>quiz_maths_q2_options</th><th>quiz_maths_q2_question</th><th>quiz_sport_q1_answer</th><th>quiz_sport_q1_options</th><th>quiz_sport_q1_question</th></tr></thead><tbody><tr><td>12</td><td>List(10, 11, 12, 13)</td><td>5 + 7 = ?</td><td>4</td><td>List(1, 2, 3, 4)</td><td>12 - 8 = ?</td><td>Huston Rocket</td><td>List(New York Bulls, Los Angeles Kings, Golden State Warriros, Huston Rocket)</td><td>Which one is correct team name in NBA?</td></tr></tbody></table></div>"
      ]
     },
     "metadata": {
      "application/vnd.databricks.v1+output": {
       "addedWidgets": {},
       "aggData": [],
       "aggError": "",
       "aggOverflow": false,
       "aggSchema": [],
       "aggSeriesLimitReached": false,
       "aggType": "",
       "arguments": {},
       "columnCustomDisplayInfos": {},
       "data": [
        [
         "12",
         [
          "10",
          "11",
          "12",
          "13"
         ],
         "5 + 7 = ?",
         "4",
         [
          "1",
          "2",
          "3",
          "4"
         ],
         "12 - 8 = ?",
         "Huston Rocket",
         [
          "New York Bulls",
          "Los Angeles Kings",
          "Golden State Warriros",
          "Huston Rocket"
         ],
         "Which one is correct team name in NBA?"
        ]
       ],
       "datasetInfos": [],
       "dbfsResultPath": null,
       "isJsonSchema": true,
       "metadata": {},
       "overflow": false,
       "plotOptions": {
        "customPlotOptions": {},
        "displayType": "table",
        "pivotAggregation": null,
        "pivotColumns": null,
        "xColumns": null,
        "yColumns": null
       },
       "removedWidgets": [],
       "schema": [
        {
         "metadata": "{}",
         "name": "quiz_maths_q1_answer",
         "type": "\"string\""
        },
        {
         "metadata": "{}",
         "name": "quiz_maths_q1_options",
         "type": "{\"type\":\"array\",\"elementType\":\"string\",\"containsNull\":true}"
        },
        {
         "metadata": "{}",
         "name": "quiz_maths_q1_question",
         "type": "\"string\""
        },
        {
         "metadata": "{}",
         "name": "quiz_maths_q2_answer",
         "type": "\"string\""
        },
        {
         "metadata": "{}",
         "name": "quiz_maths_q2_options",
         "type": "{\"type\":\"array\",\"elementType\":\"string\",\"containsNull\":true}"
        },
        {
         "metadata": "{}",
         "name": "quiz_maths_q2_question",
         "type": "\"string\""
        },
        {
         "metadata": "{}",
         "name": "quiz_sport_q1_answer",
         "type": "\"string\""
        },
        {
         "metadata": "{}",
         "name": "quiz_sport_q1_options",
         "type": "{\"type\":\"array\",\"elementType\":\"string\",\"containsNull\":true}"
        },
        {
         "metadata": "{}",
         "name": "quiz_sport_q1_question",
         "type": "\"string\""
        }
       ],
       "type": "table"
      }
     },
     "output_type": "display_data"
    }
   ],
   "source": [
    "spark.read.format(\"parquet\")\\\n",
    "    .option(\"inferSchema\", True)\\\n",
    "    .option(\"header\", True)\\\n",
    "    .load(\"/mnt/dataset/example_2_flattened.parquet\").display()"
   ]
  },
  {
   "cell_type": "code",
   "execution_count": 0,
   "metadata": {
    "application/vnd.databricks.v1+cell": {
     "cellMetadata": {
      "byteLimit": 2048000,
      "rowLimit": 10000
     },
     "inputWidgets": {},
     "nuid": "5614f5ad-4bfd-407b-9774-0664d964b4ce",
     "showTitle": false,
     "tableResultSettingsMap": {},
     "title": ""
    }
   },
   "outputs": [
    {
     "output_type": "display_data",
     "data": {
      "text/html": [
       "<style scoped>\n",
       "  .table-result-container {\n",
       "    max-height: 300px;\n",
       "    overflow: auto;\n",
       "  }\n",
       "  table, th, td {\n",
       "    border: 1px solid black;\n",
       "    border-collapse: collapse;\n",
       "  }\n",
       "  th, td {\n",
       "    padding: 5px;\n",
       "  }\n",
       "  th {\n",
       "    text-align: left;\n",
       "  }\n",
       "</style><div class='table-result-container'><table class='table-result'><thead style='background-color: white'><tr><th>id</th><th>orderStatus</th><th>tags</th><th>timestamp</th><th>paymentDetails_amount</th><th>paymentDetails_method</th><th>paymentDetails_transactionId</th><th>user_email</th><th>user_name</th><th>user_userId</th><th>products_name</th><th>products_price</th><th>products_productId</th><th>products_quantity</th></tr></thead><tbody><tr><td>1</td><td>completed</td><td>List(electronics, online_sale)</td><td>2023-01-15T10:00:00Z</td><td>1250.0</td><td>credit_card</td><td>TXN12345</td><td>alice.s@example.com</td><td>Alice Smith</td><td>user_A</td><td>Laptop</td><td>1200.0</td><td>P101</td><td>1</td></tr><tr><td>1</td><td>completed</td><td>List(electronics, online_sale)</td><td>2023-01-15T10:00:00Z</td><td>1250.0</td><td>credit_card</td><td>TXN12345</td><td>alice.s@example.com</td><td>Alice Smith</td><td>user_A</td><td>Mouse</td><td>25.0</td><td>P102</td><td>2</td></tr><tr><td>2</td><td>pending</td><td>List(peripherals)</td><td>2023-01-15T11:30:00Z</td><td>375.0</td><td>paypal</td><td>TXN67890</td><td>bob.j@example.com</td><td>Bob Johnson</td><td>user_B</td><td>Keyboard</td><td>75.0</td><td>P201</td><td>1</td></tr><tr><td>2</td><td>pending</td><td>List(peripherals)</td><td>2023-01-15T11:30:00Z</td><td>375.0</td><td>paypal</td><td>TXN67890</td><td>bob.j@example.com</td><td>Bob Johnson</td><td>user_B</td><td>Monitor</td><td>300.0</td><td>P202</td><td>1</td></tr></tbody></table></div>"
      ]
     },
     "metadata": {
      "application/vnd.databricks.v1+output": {
       "addedWidgets": {},
       "aggData": [],
       "aggError": "",
       "aggOverflow": false,
       "aggSchema": [],
       "aggSeriesLimitReached": false,
       "aggType": "",
       "arguments": {},
       "columnCustomDisplayInfos": {},
       "data": [
        [
         "1",
         "completed",
         [
          "electronics",
          "online_sale"
         ],
         "2023-01-15T10:00:00Z",
         1250.0,
         "credit_card",
         "TXN12345",
         "alice.s@example.com",
         "Alice Smith",
         "user_A",
         "Laptop",
         1200.0,
         "P101",
         1
        ],
        [
         "1",
         "completed",
         [
          "electronics",
          "online_sale"
         ],
         "2023-01-15T10:00:00Z",
         1250.0,
         "credit_card",
         "TXN12345",
         "alice.s@example.com",
         "Alice Smith",
         "user_A",
         "Mouse",
         25.0,
         "P102",
         2
        ],
        [
         "2",
         "pending",
         [
          "peripherals"
         ],
         "2023-01-15T11:30:00Z",
         375.0,
         "paypal",
         "TXN67890",
         "bob.j@example.com",
         "Bob Johnson",
         "user_B",
         "Keyboard",
         75.0,
         "P201",
         1
        ],
        [
         "2",
         "pending",
         [
          "peripherals"
         ],
         "2023-01-15T11:30:00Z",
         375.0,
         "paypal",
         "TXN67890",
         "bob.j@example.com",
         "Bob Johnson",
         "user_B",
         "Monitor",
         300.0,
         "P202",
         1
        ]
       ],
       "datasetInfos": [],
       "dbfsResultPath": null,
       "isJsonSchema": true,
       "metadata": {},
       "overflow": false,
       "plotOptions": {
        "customPlotOptions": {},
        "displayType": "table",
        "pivotAggregation": null,
        "pivotColumns": null,
        "xColumns": null,
        "yColumns": null
       },
       "removedWidgets": [],
       "schema": [
        {
         "metadata": "{}",
         "name": "id",
         "type": "\"string\""
        },
        {
         "metadata": "{}",
         "name": "orderStatus",
         "type": "\"string\""
        },
        {
         "metadata": "{}",
         "name": "tags",
         "type": "{\"type\":\"array\",\"elementType\":\"string\",\"containsNull\":true}"
        },
        {
         "metadata": "{}",
         "name": "timestamp",
         "type": "\"string\""
        },
        {
         "metadata": "{}",
         "name": "paymentDetails_amount",
         "type": "\"double\""
        },
        {
         "metadata": "{}",
         "name": "paymentDetails_method",
         "type": "\"string\""
        },
        {
         "metadata": "{}",
         "name": "paymentDetails_transactionId",
         "type": "\"string\""
        },
        {
         "metadata": "{}",
         "name": "user_email",
         "type": "\"string\""
        },
        {
         "metadata": "{}",
         "name": "user_name",
         "type": "\"string\""
        },
        {
         "metadata": "{}",
         "name": "user_userId",
         "type": "\"string\""
        },
        {
         "metadata": "{}",
         "name": "products_name",
         "type": "\"string\""
        },
        {
         "metadata": "{}",
         "name": "products_price",
         "type": "\"double\""
        },
        {
         "metadata": "{}",
         "name": "products_productId",
         "type": "\"string\""
        },
        {
         "metadata": "{}",
         "name": "products_quantity",
         "type": "\"long\""
        }
       ],
       "type": "table"
      }
     },
     "output_type": "display_data"
    }
   ],
   "source": [
    "spark.read.format(\"parquet\")\\\n",
    "    .option(\"inferSchema\", True)\\\n",
    "    .option(\"header\", True)\\\n",
    "    .load(\"/mnt/dataset/example_3_flattened.parquet\").display()"
   ]
  },
  {
   "cell_type": "code",
   "execution_count": 0,
   "metadata": {
    "application/vnd.databricks.v1+cell": {
     "cellMetadata": {},
     "inputWidgets": {},
     "nuid": "55598a39-990e-4813-8d96-936cb42676fd",
     "showTitle": false,
     "tableResultSettingsMap": {},
     "title": ""
    }
   },
   "outputs": [],
   "source": []
  }
 ],
 "metadata": {
  "application/vnd.databricks.v1+notebook": {
   "computePreferences": null,
   "dashboards": [],
   "environmentMetadata": {
    "base_environment": "",
    "environment_version": "2"
   },
   "inputWidgetPreferences": null,
   "language": "python",
   "notebookMetadata": {
    "pythonIndentUnit": 4
   },
   "notebookName": "flatten_json",
   "widgets": {}
  },
  "language_info": {
   "name": "python"
  }
 },
 "nbformat": 4,
 "nbformat_minor": 0
}