{
 "cells": [
  {
   "cell_type": "code",
   "execution_count": null,
   "id": "04104bc9",
   "metadata": {},
   "outputs": [],
   "source": [
    "\"\"\"\n",
    "The following program uses jdbc for connecting to the MS SQL Server, therefore, mssql-jdbc jar file is needed.\n",
    "It has been defined while creating a spark session, before running, the user must have the jar file in this folder.\n",
    "JAR file can be downloaded from:\n",
    "https://learn.microsoft.com/en-us/sql/connect/jdbc/download-microsoft-jdbc-driver-for-sql-server?view=sql-server-ver17\n",
    "\n",
    "Since spark connects to an external resource, it uses HADOOP at low level. Therefore HADOOP_HOME env variable and HADOOP path\n",
    "has to be defined in the system. If the hadoop gives error, we can download the hadoop .exe and .dll file from:\n",
    "https://github.com/steveloughran/winutils/tree/master/hadoop-3.0.0/bin\n",
    "\"\"\""
   ]
  },
  {
   "cell_type": "code",
   "execution_count": 1,
   "id": "d511e28c",
   "metadata": {},
   "outputs": [],
   "source": [
    "import os\n",
    "from pyspark.sql import SparkSession"
   ]
  },
  {
   "cell_type": "code",
   "execution_count": 2,
   "id": "83be74f7",
   "metadata": {},
   "outputs": [],
   "source": [
    "jar_path = os.path.abspath(\"./mssql-jdbc-12.10.1.jre11.jar\")"
   ]
  },
  {
   "cell_type": "code",
   "execution_count": 3,
   "id": "b1df78ca",
   "metadata": {},
   "outputs": [],
   "source": [
    "spark = SparkSession.builder \\\n",
    "\t\t\t\t\t.appName(\"ExportToParquet\") \\\n",
    "\t\t\t\t\t.config(\"spark.jars\", jar_path) \\\n",
    "\t\t\t\t\t.config(\"spark.jars.packages\", \"org.apache.spark:spark-avro_2.12:3.2.3\") \\\n",
    "    \t\t\t\t.getOrCreate()"
   ]
  },
  {
   "cell_type": "code",
   "execution_count": null,
   "id": "c1ab3c05",
   "metadata": {},
   "outputs": [],
   "source": [
    "df = spark.read \\\n",
    "                .format(\"jdbc\") \\\n",
    "                .option(\"url\", \"jdbc:sqlserver://localhost:1433;databaseName=bikeStores;encrypt=true;trustServerCertificate=true\") \\\n",
    "\t\t\t\t.option(\"driver\", \"com.microsoft.sqlserver.jdbc.SQLServerDriver\") \\\n",
    "                .option(\"dbtable\", \"sales.orders\") \\\n",
    "                .option(\"user\", \"sa\") \\\n",
    "                .option(\"password\", \"<pas>\") \\\n",
    "\t\t\t\t.load()"
   ]
  },
  {
   "cell_type": "code",
   "execution_count": 5,
   "id": "67ded949",
   "metadata": {},
   "outputs": [
    {
     "name": "stdout",
     "output_type": "stream",
     "text": [
      "+--------+-----------+------------+----------+-------------+------------+--------+--------+\n",
      "|order_id|customer_id|order_status|order_date|required_date|shipped_date|store_id|staff_id|\n",
      "+--------+-----------+------------+----------+-------------+------------+--------+--------+\n",
      "|       1|        259|           4|2016-01-01|   2016-01-03|  2016-01-03|       1|       2|\n",
      "|       2|       1212|           4|2016-01-01|   2016-01-04|  2016-01-03|       2|       6|\n",
      "|       3|        523|           4|2016-01-02|   2016-01-05|  2016-01-03|       2|       7|\n",
      "|       4|        175|           4|2016-01-03|   2016-01-04|  2016-01-05|       1|       3|\n",
      "|       5|       1324|           4|2016-01-03|   2016-01-06|  2016-01-06|       2|       6|\n",
      "|       6|         94|           4|2016-01-04|   2016-01-07|  2016-01-05|       2|       6|\n",
      "|       7|        324|           4|2016-01-04|   2016-01-07|  2016-01-05|       2|       6|\n",
      "|       8|       1204|           4|2016-01-04|   2016-01-05|  2016-01-05|       2|       7|\n",
      "|       9|         60|           4|2016-01-05|   2016-01-08|  2016-01-08|       1|       2|\n",
      "|      10|        442|           4|2016-01-05|   2016-01-06|  2016-01-06|       2|       6|\n",
      "|      11|       1326|           4|2016-01-05|   2016-01-08|  2016-01-07|       2|       7|\n",
      "|      12|         91|           4|2016-01-06|   2016-01-08|  2016-01-09|       1|       2|\n",
      "|      13|        873|           4|2016-01-08|   2016-01-11|  2016-01-11|       2|       6|\n",
      "|      14|        258|           4|2016-01-09|   2016-01-11|  2016-01-12|       1|       3|\n",
      "|      15|        450|           4|2016-01-09|   2016-01-10|  2016-01-12|       2|       7|\n",
      "|      16|        552|           4|2016-01-12|   2016-01-15|  2016-01-15|       1|       3|\n",
      "|      17|       1175|           4|2016-01-12|   2016-01-14|  2016-01-14|       1|       3|\n",
      "|      18|        541|           4|2016-01-14|   2016-01-17|  2016-01-15|       1|       3|\n",
      "|      19|        696|           4|2016-01-14|   2016-01-17|  2016-01-16|       1|       2|\n",
      "|      20|        923|           4|2016-01-14|   2016-01-16|  2016-01-17|       1|       2|\n",
      "+--------+-----------+------------+----------+-------------+------------+--------+--------+\n",
      "only showing top 20 rows\n"
     ]
    }
   ],
   "source": [
    "df.show()"
   ]
  },
  {
   "cell_type": "code",
   "execution_count": 6,
   "id": "1861059e",
   "metadata": {},
   "outputs": [],
   "source": [
    "output_file = os.path.abspath(\"./orders.avro\")\n",
    "df.write \\\n",
    "\t.format(\"avro\") \\\n",
    "\t.mode(\"overwrite\") \\\n",
    "\t.save(output_file)"
   ]
  },
  {
   "cell_type": "code",
   "execution_count": null,
   "id": "dab8eca7",
   "metadata": {},
   "outputs": [],
   "source": []
  }
 ],
 "metadata": {
  "kernelspec": {
   "display_name": "venv",
   "language": "python",
   "name": "python3"
  },
  "language_info": {
   "codemirror_mode": {
    "name": "ipython",
    "version": 3
   },
   "file_extension": ".py",
   "mimetype": "text/x-python",
   "name": "python",
   "nbconvert_exporter": "python",
   "pygments_lexer": "ipython3",
   "version": "3.12.1"
  }
 },
 "nbformat": 4,
 "nbformat_minor": 5
}
